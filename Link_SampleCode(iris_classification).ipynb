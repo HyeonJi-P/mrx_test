{
 "cells": [
  {
   "cell_type": "code",
   "execution_count": 1,
   "id": "e6daf81c-39ff-44bd-b5b3-a5ae85532d5e",
   "metadata": {
    "canvas": {
     "comments": [],
     "componentType": "CodeCell",
     "copiedOriginId": "28461a4d-8513-4c7a-aeaf-9a869844bf9c",
     "diskcache": false,
     "headerColor": "inherit",
     "id": "7702a15c-d68f-492e-b3e2-43bce7f25c8c",
     "isComponent": false,
     "name": "",
     "parents": []
    },
    "tags": []
   },
   "outputs": [
    {
     "name": "stdout",
     "output_type": "stream",
     "text": [
      "Collecting sklearn\n",
      "  Downloading sklearn-0.0.post1.tar.gz (3.6 kB)\n",
      "  Preparing metadata (setup.py) ... \u001b[?25ldone\n",
      "\u001b[?25hCollecting torch\n",
      "  Downloading torch-1.13.1-cp39-cp39-manylinux1_x86_64.whl (887.4 MB)\n",
      "\u001b[2K     \u001b[38;2;114;156;31m━━━━━━━━━━━━━━━━━━━━━━━━━━━━━━━━━━━━━━━\u001b[0m \u001b[32m887.4/887.4 MB\u001b[0m \u001b[31m2.8 MB/s\u001b[0m eta \u001b[36m0:00:00\u001b[0mm eta \u001b[36m0:00:01\u001b[0m[36m0:00:07\u001b[0m\n",
      "\u001b[?25hCollecting pytorch_lightning>=1.6\n",
      "  Downloading pytorch_lightning-1.8.6-py3-none-any.whl (800 kB)\n",
      "\u001b[2K     \u001b[38;2;114;156;31m━━━━━━━━━━━━━━━━━━━━━━━━━━━━━━━━━━━━━━━\u001b[0m \u001b[32m800.3/800.3 kB\u001b[0m \u001b[31m3.8 MB/s\u001b[0m eta \u001b[36m0:00:00\u001b[0m[36m0:00:01\u001b[0m[36m0:00:01\u001b[0m:01\u001b[0m\n",
      "\u001b[?25hCollecting livelossplot\n",
      "  Downloading livelossplot-0.5.5-py3-none-any.whl (22 kB)\n",
      "Collecting nvidia-cuda-runtime-cu11==11.7.99\n",
      "  Downloading nvidia_cuda_runtime_cu11-11.7.99-py3-none-manylinux1_x86_64.whl (849 kB)\n",
      "\u001b[2K     \u001b[38;2;114;156;31m━━━━━━━━━━━━━━━━━━━━━━━━━━━━━━━━━━━━━━━\u001b[0m \u001b[32m849.3/849.3 kB\u001b[0m \u001b[31m4.6 MB/s\u001b[0m eta \u001b[36m0:00:00\u001b[0m MB/s\u001b[0m eta \u001b[36m0:00:01\u001b[0m:01\u001b[0m\n",
      "\u001b[?25hCollecting nvidia-cudnn-cu11==8.5.0.96\n",
      "  Downloading nvidia_cudnn_cu11-8.5.0.96-2-py3-none-manylinux1_x86_64.whl (557.1 MB)\n",
      "\u001b[2K     \u001b[38;2;114;156;31m━━━━━━━━━━━━━━━━━━━━━━━━━━━━━━━━━━━━━━━\u001b[0m \u001b[32m557.1/557.1 MB\u001b[0m \u001b[31m2.7 MB/s\u001b[0m eta \u001b[36m0:00:00\u001b[0mm eta \u001b[36m0:00:01\u001b[0m[36m0:00:04\u001b[0m\n",
      "\u001b[?25hCollecting nvidia-cuda-nvrtc-cu11==11.7.99\n",
      "  Downloading nvidia_cuda_nvrtc_cu11-11.7.99-2-py3-none-manylinux1_x86_64.whl (21.0 MB)\n",
      "\u001b[2K     \u001b[38;2;114;156;31m━━━━━━━━━━━━━━━━━━━━━━━━━━━━━━━━━━━━━━━━\u001b[0m \u001b[32m21.0/21.0 MB\u001b[0m \u001b[31m4.1 MB/s\u001b[0m eta \u001b[36m0:00:00\u001b[0mm eta \u001b[36m0:00:01\u001b[0m[36m0:00:01\u001b[0m\n",
      "\u001b[?25hCollecting nvidia-cublas-cu11==11.10.3.66\n",
      "  Downloading nvidia_cublas_cu11-11.10.3.66-py3-none-manylinux1_x86_64.whl (317.1 MB)\n",
      "\u001b[2K     \u001b[38;2;114;156;31m━━━━━━━━━━━━━━━━━━━━━━━━━━━━━━━━━━━━━━━\u001b[0m \u001b[32m317.1/317.1 MB\u001b[0m \u001b[31m3.5 MB/s\u001b[0m eta \u001b[36m0:00:00\u001b[0mm eta \u001b[36m0:00:01\u001b[0m[36m0:00:03\u001b[0m\n",
      "\u001b[?25hRequirement already satisfied: typing-extensions in /home/hyeonji/.conda/envs/mrx_link_py39/lib/python3.9/site-packages (from torch) (4.4.0)\n",
      "Requirement already satisfied: setuptools in /home/hyeonji/.conda/envs/mrx_link_py39/lib/python3.9/site-packages (from nvidia-cublas-cu11==11.10.3.66->torch) (65.6.3)\n",
      "Requirement already satisfied: wheel in /home/hyeonji/.conda/envs/mrx_link_py39/lib/python3.9/site-packages (from nvidia-cublas-cu11==11.10.3.66->torch) (0.38.4)\n",
      "Requirement already satisfied: packaging>=17.0 in /home/hyeonji/.conda/envs/mrx_link_py39/lib/python3.9/site-packages (from pytorch_lightning>=1.6) (22.0)\n",
      "Requirement already satisfied: numpy>=1.17.2 in /home/hyeonji/.conda/envs/mrx_link_py39/lib/python3.9/site-packages (from pytorch_lightning>=1.6) (1.24.0)\n",
      "Collecting fsspec[http]>2021.06.0\n",
      "  Downloading fsspec-2022.11.0-py3-none-any.whl (139 kB)\n",
      "\u001b[2K     \u001b[38;2;114;156;31m━━━━━━━━━━━━━━━━━━━━━━━━━━━━━━━━━━━━━━━\u001b[0m \u001b[32m139.5/139.5 kB\u001b[0m \u001b[31m4.1 MB/s\u001b[0m eta \u001b[36m0:00:00\u001b[0m\n",
      "\u001b[?25hRequirement already satisfied: PyYAML>=5.4 in /home/hyeonji/.conda/envs/mrx_link_py39/lib/python3.9/site-packages (from pytorch_lightning>=1.6) (5.4.1)\n",
      "Collecting torchmetrics>=0.7.0\n",
      "  Downloading torchmetrics-0.11.0-py3-none-any.whl (512 kB)\n",
      "\u001b[2K     \u001b[38;2;114;156;31m━━━━━━━━━━━━━━━━━━━━━━━━━━━━━━━━━━━━━━━\u001b[0m \u001b[32m512.4/512.4 kB\u001b[0m \u001b[31m4.4 MB/s\u001b[0m eta \u001b[36m0:00:00\u001b[0m MB/s\u001b[0m eta \u001b[36m0:00:01\u001b[0m:01\u001b[0m\n",
      "\u001b[?25hRequirement already satisfied: tqdm>=4.57.0 in /home/hyeonji/.conda/envs/mrx_link_py39/lib/python3.9/site-packages (from pytorch_lightning>=1.6) (4.64.1)\n",
      "Collecting tensorboardX>=2.2\n",
      "  Downloading tensorboardX-2.5.1-py2.py3-none-any.whl (125 kB)\n",
      "\u001b[2K     \u001b[38;2;114;156;31m━━━━━━━━━━━━━━━━━━━━━━━━━━━━━━━━━━━━━━━\u001b[0m \u001b[32m125.4/125.4 kB\u001b[0m \u001b[31m4.3 MB/s\u001b[0m eta \u001b[36m0:00:00\u001b[0m\n",
      "\u001b[?25hCollecting lightning-utilities!=0.4.0,>=0.3.0\n",
      "  Downloading lightning_utilities-0.5.0-py3-none-any.whl (18 kB)\n",
      "Collecting bokeh\n",
      "  Downloading bokeh-3.0.3-py3-none-any.whl (16.5 MB)\n",
      "\u001b[2K     \u001b[38;2;114;156;31m━━━━━━━━━━━━━━━━━━━━━━━━━━━━━━━━━━━━━━━━\u001b[0m \u001b[32m16.5/16.5 MB\u001b[0m \u001b[31m4.6 MB/s\u001b[0m eta \u001b[36m0:00:00\u001b[0mm eta \u001b[36m0:00:01\u001b[0m[36m0:00:01\u001b[0m\n",
      "\u001b[?25hRequirement already satisfied: matplotlib in /home/hyeonji/.conda/envs/mrx_link_py39/lib/python3.9/site-packages (from livelossplot) (3.6.2)\n",
      "Requirement already satisfied: requests in /home/hyeonji/.conda/envs/mrx_link_py39/lib/python3.9/site-packages (from fsspec[http]>2021.06.0->pytorch_lightning>=1.6) (2.28.1)\n",
      "Requirement already satisfied: aiohttp!=4.0.0a0,!=4.0.0a1 in /home/hyeonji/.conda/envs/mrx_link_py39/lib/python3.9/site-packages (from fsspec[http]>2021.06.0->pytorch_lightning>=1.6) (3.8.3)\n",
      "Collecting protobuf<=3.20.1,>=3.8.0\n",
      "  Downloading protobuf-3.20.1-cp39-cp39-manylinux_2_5_x86_64.manylinux1_x86_64.whl (1.0 MB)\n",
      "\u001b[2K     \u001b[38;2;114;156;31m━━━━━━━━━━━━━━━━━━━━━━━━━━━━━━━━━━━━━━━━\u001b[0m \u001b[32m1.0/1.0 MB\u001b[0m \u001b[31m4.4 MB/s\u001b[0m eta \u001b[36m0:00:00\u001b[0m MB/s\u001b[0m eta \u001b[36m0:00:01\u001b[0m:01\u001b[0m\n",
      "\u001b[?25hRequirement already satisfied: Jinja2>=2.9 in /home/hyeonji/.conda/envs/mrx_link_py39/lib/python3.9/site-packages (from bokeh->livelossplot) (3.1.2)\n",
      "Requirement already satisfied: pillow>=7.1.0 in /home/hyeonji/.conda/envs/mrx_link_py39/lib/python3.9/site-packages (from bokeh->livelossplot) (9.3.0)\n",
      "Requirement already satisfied: tornado>=5.1 in /home/hyeonji/.conda/envs/mrx_link_py39/lib/python3.9/site-packages (from bokeh->livelossplot) (6.2)\n",
      "Requirement already satisfied: pandas>=1.2 in /home/hyeonji/.conda/envs/mrx_link_py39/lib/python3.9/site-packages (from bokeh->livelossplot) (1.5.2)\n",
      "Requirement already satisfied: contourpy>=1 in /home/hyeonji/.conda/envs/mrx_link_py39/lib/python3.9/site-packages (from bokeh->livelossplot) (1.0.6)\n",
      "Collecting xyzservices>=2021.09.1\n",
      "  Downloading xyzservices-2022.9.0-py3-none-any.whl (55 kB)\n",
      "\u001b[2K     \u001b[38;2;114;156;31m━━━━━━━━━━━━━━━━━━━━━━━━━━━━━━━━━━━━━━━━\u001b[0m \u001b[32m55.9/55.9 kB\u001b[0m \u001b[31m3.4 MB/s\u001b[0m eta \u001b[36m0:00:00\u001b[0m\n",
      "\u001b[?25hRequirement already satisfied: fonttools>=4.22.0 in /home/hyeonji/.conda/envs/mrx_link_py39/lib/python3.9/site-packages (from matplotlib->livelossplot) (4.38.0)\n",
      "Requirement already satisfied: cycler>=0.10 in /home/hyeonji/.conda/envs/mrx_link_py39/lib/python3.9/site-packages (from matplotlib->livelossplot) (0.11.0)\n",
      "Requirement already satisfied: python-dateutil>=2.7 in /home/hyeonji/.conda/envs/mrx_link_py39/lib/python3.9/site-packages (from matplotlib->livelossplot) (2.8.2)\n",
      "Requirement already satisfied: kiwisolver>=1.0.1 in /home/hyeonji/.conda/envs/mrx_link_py39/lib/python3.9/site-packages (from matplotlib->livelossplot) (1.4.4)\n",
      "Requirement already satisfied: pyparsing>=2.2.1 in /home/hyeonji/.conda/envs/mrx_link_py39/lib/python3.9/site-packages (from matplotlib->livelossplot) (3.0.9)\n",
      "Requirement already satisfied: charset-normalizer<3.0,>=2.0 in /home/hyeonji/.conda/envs/mrx_link_py39/lib/python3.9/site-packages (from aiohttp!=4.0.0a0,!=4.0.0a1->fsspec[http]>2021.06.0->pytorch_lightning>=1.6) (2.1.1)\n",
      "Requirement already satisfied: multidict<7.0,>=4.5 in /home/hyeonji/.conda/envs/mrx_link_py39/lib/python3.9/site-packages (from aiohttp!=4.0.0a0,!=4.0.0a1->fsspec[http]>2021.06.0->pytorch_lightning>=1.6) (6.0.4)\n",
      "Requirement already satisfied: frozenlist>=1.1.1 in /home/hyeonji/.conda/envs/mrx_link_py39/lib/python3.9/site-packages (from aiohttp!=4.0.0a0,!=4.0.0a1->fsspec[http]>2021.06.0->pytorch_lightning>=1.6) (1.3.3)\n",
      "Requirement already satisfied: aiosignal>=1.1.2 in /home/hyeonji/.conda/envs/mrx_link_py39/lib/python3.9/site-packages (from aiohttp!=4.0.0a0,!=4.0.0a1->fsspec[http]>2021.06.0->pytorch_lightning>=1.6) (1.3.1)\n",
      "Requirement already satisfied: yarl<2.0,>=1.0 in /home/hyeonji/.conda/envs/mrx_link_py39/lib/python3.9/site-packages (from aiohttp!=4.0.0a0,!=4.0.0a1->fsspec[http]>2021.06.0->pytorch_lightning>=1.6) (1.8.2)\n",
      "Requirement already satisfied: async-timeout<5.0,>=4.0.0a3 in /home/hyeonji/.conda/envs/mrx_link_py39/lib/python3.9/site-packages (from aiohttp!=4.0.0a0,!=4.0.0a1->fsspec[http]>2021.06.0->pytorch_lightning>=1.6) (4.0.2)\n",
      "Requirement already satisfied: attrs>=17.3.0 in /home/hyeonji/.conda/envs/mrx_link_py39/lib/python3.9/site-packages (from aiohttp!=4.0.0a0,!=4.0.0a1->fsspec[http]>2021.06.0->pytorch_lightning>=1.6) (22.2.0)\n",
      "Requirement already satisfied: MarkupSafe>=2.0 in /home/hyeonji/.conda/envs/mrx_link_py39/lib/python3.9/site-packages (from Jinja2>=2.9->bokeh->livelossplot) (2.1.1)\n",
      "Requirement already satisfied: pytz>=2020.1 in /home/hyeonji/.conda/envs/mrx_link_py39/lib/python3.9/site-packages (from pandas>=1.2->bokeh->livelossplot) (2022.7)\n",
      "Requirement already satisfied: six>=1.5 in /home/hyeonji/.conda/envs/mrx_link_py39/lib/python3.9/site-packages (from python-dateutil>=2.7->matplotlib->livelossplot) (1.16.0)\n",
      "Requirement already satisfied: idna<4,>=2.5 in /home/hyeonji/.conda/envs/mrx_link_py39/lib/python3.9/site-packages (from requests->fsspec[http]>2021.06.0->pytorch_lightning>=1.6) (3.4)\n",
      "Requirement already satisfied: urllib3<1.27,>=1.21.1 in /home/hyeonji/.conda/envs/mrx_link_py39/lib/python3.9/site-packages (from requests->fsspec[http]>2021.06.0->pytorch_lightning>=1.6) (1.26.13)\n",
      "Requirement already satisfied: certifi>=2017.4.17 in /home/hyeonji/.conda/envs/mrx_link_py39/lib/python3.9/site-packages (from requests->fsspec[http]>2021.06.0->pytorch_lightning>=1.6) (2022.12.7)\n",
      "Building wheels for collected packages: sklearn\n",
      "  Building wheel for sklearn (setup.py) ... \u001b[?25ldone\n",
      "\u001b[?25h  Created wheel for sklearn: filename=sklearn-0.0.post1-py3-none-any.whl size=2935 sha256=b707612d4605f26157480a886f28cc5c3fd1edc174c95a5948640b67d8ec61f4\n",
      "  Stored in directory: /home/hyeonji/.cache/pip/wheels/03/8b/6f/9f13c705de81a6b351b718b3cf917e41ad7c0933c8630d4dd4\n",
      "Successfully built sklearn\n",
      "Installing collected packages: sklearn, xyzservices, protobuf, nvidia-cuda-runtime-cu11, nvidia-cuda-nvrtc-cu11, nvidia-cublas-cu11, lightning-utilities, fsspec, tensorboardX, nvidia-cudnn-cu11, torch, bokeh, torchmetrics, livelossplot, pytorch_lightning\n",
      "  Attempting uninstall: protobuf\n",
      "    Found existing installation: protobuf 3.20.3\n",
      "    Uninstalling protobuf-3.20.3:\n",
      "      Successfully uninstalled protobuf-3.20.3\n",
      "\u001b[31mERROR: pip's dependency resolver does not currently take into account all the packages that are installed. This behaviour is the source of the following dependency conflicts.\n",
      "googleapis-common-protos 1.57.0 requires protobuf!=3.20.0,!=3.20.1,!=4.21.1,!=4.21.2,!=4.21.3,!=4.21.4,!=4.21.5,<5.0.0dev,>=3.19.5, but you have protobuf 3.20.1 which is incompatible.\n",
      "google-api-core 2.11.0 requires protobuf!=3.20.0,!=3.20.1,!=4.21.0,!=4.21.1,!=4.21.2,!=4.21.3,!=4.21.4,!=4.21.5,<5.0.0dev,>=3.19.5, but you have protobuf 3.20.1 which is incompatible.\u001b[0m\u001b[31m\n",
      "\u001b[0mSuccessfully installed bokeh-3.0.3 fsspec-2022.11.0 lightning-utilities-0.5.0 livelossplot-0.5.5 nvidia-cublas-cu11-11.10.3.66 nvidia-cuda-nvrtc-cu11-11.7.99 nvidia-cuda-runtime-cu11-11.7.99 nvidia-cudnn-cu11-8.5.0.96 protobuf-3.20.1 pytorch_lightning-1.8.6 sklearn-0.0.post1 tensorboardX-2.5.1 torch-1.13.1 torchmetrics-0.11.0 xyzservices-2022.9.0\n"
     ]
    }
   ],
   "source": [
    "# 아래의 Package가 필요한 경우에 주석을 삭제하고 설치해 주세요.\n",
    "# 해당 데모는 pytorch-lightning 1.6 버전 이상을 권장합니다.\n",
    "!pip install sklearn torch \"pytorch_lightning>=1.6\" livelossplot"
   ]
  },
  {
   "cell_type": "markdown",
   "id": "496466c9-747f-4165-b71a-08e9ae1af3bf",
   "metadata": {
    "canvas": {
     "comments": [],
     "componentType": "CodeCell",
     "copiedOriginId": "09eed00a-8990-4665-92c5-1d9654b0723d",
     "diskcache": false,
     "headerColor": "none",
     "id": "e5b1cf1b-ecc2-4060-82a8-679c226a3833",
     "isComponent": false,
     "name": "",
     "parents": []
    },
    "tags": []
   },
   "source": [
    "## Load iris data"
   ]
  },
  {
   "cell_type": "code",
   "execution_count": 2,
   "id": "4869d963-6165-44ad-8803-2644b350857d",
   "metadata": {
    "canvas": {
     "comments": [
      {
       "message": "comenttt",
       "writer": "hyeonji"
      }
     ],
     "componentType": "CodeCell",
     "copiedOriginId": null,
     "diskcache": true,
     "headerColor": "#FF004F",
     "id": "ea60a934-8658-4129-9cef-e1bbc32f48d2",
     "isComponent": true,
     "name": "Load Iris data",
     "parents": []
    },
    "tags": []
   },
   "outputs": [],
   "source": [
    "from sklearn.datasets import load_iris\n",
    "\n",
    "data = load_iris()"
   ]
  },
  {
   "cell_type": "code",
   "execution_count": null,
   "id": "da2aae67-079d-459c-b42a-3867f6146ffb",
   "metadata": {
    "canvas": {
     "comments": [],
     "componentType": "CodeCell",
     "copiedOriginId": "7ead4282-e087-4d17-9d6e-eeb3134c060c",
     "diskcache": false,
     "headerColor": "none",
     "id": "b44fb00c-80eb-4ae4-ba64-9fb578ee4aa9",
     "isComponent": false,
     "name": "",
     "parents": []
    },
    "tags": []
   },
   "outputs": [],
   "source": [
    "data"
   ]
  },
  {
   "cell_type": "markdown",
   "id": "6745d3f2-199c-4402-8ceb-382f750cca1c",
   "metadata": {
    "canvas": {
     "comments": [],
     "componentType": "CodeCell",
     "copiedOriginId": "399d38a8-ddfb-40ea-a5fa-29d669a1a3c2",
     "diskcache": false,
     "headerColor": "none",
     "id": "1eb94bcc-1c0c-491f-b9a7-edd99dfb9fa3",
     "isComponent": false,
     "name": "",
     "parents": []
    },
    "tags": []
   },
   "source": [
    "## Create dataframe"
   ]
  },
  {
   "cell_type": "code",
   "execution_count": null,
   "id": "dbaf0c0b-593f-4293-a9c8-409887b130c5",
   "metadata": {
    "canvas": {
     "comments": [],
     "componentType": "CodeCell",
     "copiedOriginId": null,
     "diskcache": true,
     "headerColor": "#FF004F",
     "id": "7f47bc5c-de01-41ba-aec2-08c194b882ed",
     "isComponent": true,
     "name": "Create data frame",
     "parents": [
      {
       "id": "ea60a934-8658-4129-9cef-e1bbc32f48d2",
       "name": "Load Iris data"
      }
     ]
    },
    "tags": []
   },
   "outputs": [],
   "source": [
    "import numpy as np\n",
    "import pandas as pd\n",
    "\n",
    "df = pd.DataFrame(data[\"data\"], columns=data[\"feature_names\"])\n",
    "df[\"target\"] = data[\"target\"]"
   ]
  },
  {
   "cell_type": "code",
   "execution_count": null,
   "id": "caf2d27c-7fb3-4267-a197-a2444e9eca93",
   "metadata": {
    "canvas": {
     "comments": [],
     "componentType": "CodeCell",
     "copiedOriginId": "db3730cb-0435-4f2f-8f04-54efce27d5d8",
     "diskcache": false,
     "headerColor": "none",
     "id": "a6c6a980-4cba-4045-b320-768e2af907cb",
     "isComponent": false,
     "name": "",
     "parents": []
    },
    "tags": []
   },
   "outputs": [],
   "source": [
    "data[\"data\"].astype(float).dtype"
   ]
  },
  {
   "cell_type": "markdown",
   "id": "3a6ebe43-883d-4d72-b5f2-792ee6973294",
   "metadata": {
    "canvas": {
     "comments": [],
     "componentType": "CodeCell",
     "copiedOriginId": "0264c406-d9dd-43c0-959b-4cb45a4a342e",
     "diskcache": false,
     "headerColor": "none",
     "id": "14cc1c00-5523-4890-8092-65a4db512433",
     "isComponent": false,
     "name": "",
     "parents": []
    }
   },
   "source": [
    "## Train/valid split"
   ]
  },
  {
   "cell_type": "code",
   "execution_count": null,
   "id": "a9f18f8c-8510-490e-807f-c7c1fc3e00e0",
   "metadata": {
    "canvas": {
     "comments": [],
     "componentType": "CodeCell",
     "copiedOriginId": null,
     "diskcache": true,
     "headerColor": "#FF004F",
     "id": "35bb8cc2-eee3-4857-8f2d-ce2e810ee848",
     "isComponent": true,
     "name": "train valid split",
     "parents": [
      {
       "id": "7f47bc5c-de01-41ba-aec2-08c194b882ed",
       "name": "Create data frame"
      }
     ]
    },
    "tags": []
   },
   "outputs": [],
   "source": [
    "import numpy as np\n",
    "\n",
    "train_ratio = 0.7\n",
    "train_len = int(train_ratio * len(df))\n",
    "indices = np.random.permutation(df.index)\n",
    "train_indices = indices[:train_len]\n",
    "valid_indices = indices[train_len:]"
   ]
  },
  {
   "cell_type": "markdown",
   "id": "eb7e8f3a-fd0c-465a-84d3-778d84014026",
   "metadata": {
    "canvas": {
     "comments": [],
     "componentType": "CodeCell",
     "copiedOriginId": "d7f758b7-2de2-4add-9baa-0aa98e1f67e7",
     "diskcache": false,
     "headerColor": "none",
     "id": "dea2a5de-2485-4c7b-8ce1-e5979be26e6d",
     "isComponent": false,
     "name": "",
     "parents": []
    }
   },
   "source": [
    "## Create dataloaders"
   ]
  },
  {
   "cell_type": "code",
   "execution_count": null,
   "id": "43f21883-ce63-46c0-9c40-100b8fb48f60",
   "metadata": {
    "canvas": {
     "comments": [],
     "componentType": "CodeCell",
     "copiedOriginId": null,
     "diskcache": true,
     "headerColor": "#FF004F",
     "id": "da9f8eb3-7d26-4044-9d30-c6cb21530085",
     "isComponent": true,
     "name": "create dataloader",
     "parents": [
      {
       "id": "35bb8cc2-eee3-4857-8f2d-ce2e810ee848",
       "name": "train valid split"
      }
     ]
    },
    "tags": []
   },
   "outputs": [],
   "source": [
    "import torch\n",
    "from torch.utils.data import DataLoader, TensorDataset, Subset\n",
    "\n",
    "dataset = TensorDataset(torch.from_numpy(df.loc[:, data[\"feature_names\"]].values).float(), torch.from_numpy(df.loc[:, \"target\"].values).long())\n",
    "train_loader = DataLoader(Subset(dataset, train_indices), batch_size=20)\n",
    "valid_loader = DataLoader(Subset(dataset, valid_indices), batch_size=len(valid_indices))"
   ]
  },
  {
   "cell_type": "code",
   "execution_count": null,
   "id": "31a35b61-2bbe-4f11-9eac-a2dbbdbbd7e9",
   "metadata": {
    "canvas": {
     "comments": [],
     "componentType": "CodeCell",
     "copiedOriginId": "4cdaf206-85df-462e-9732-6320ce62e809",
     "diskcache": false,
     "headerColor": "none",
     "id": "f5e4f91c-c163-4edb-bbb7-d6d6e221a370",
     "isComponent": false,
     "name": "",
     "parents": []
    }
   },
   "outputs": [],
   "source": [
    "valid_loader"
   ]
  },
  {
   "cell_type": "markdown",
   "id": "c0658be1-9d6e-44bc-9582-05e79e13a996",
   "metadata": {
    "canvas": {
     "comments": [],
     "componentType": "CodeCell",
     "copiedOriginId": "ce720e08-919f-434c-957f-4dd4a34c7a0f",
     "diskcache": false,
     "headerColor": "none",
     "id": "44632db5-67f6-433e-b3cb-f9bc44b4ce07",
     "isComponent": false,
     "name": "",
     "parents": []
    }
   },
   "source": [
    "## Define pl model"
   ]
  },
  {
   "cell_type": "code",
   "execution_count": null,
   "id": "962dc241-3ab6-40ea-b9ac-11319f17de2e",
   "metadata": {
    "canvas": {
     "comments": [],
     "componentType": "CodeCell",
     "copiedOriginId": null,
     "diskcache": true,
     "headerColor": "#0093FF",
     "id": "964f0b9a-dab5-48a3-88d3-5bdffcc53d49",
     "isComponent": true,
     "name": "def pl model",
     "parents": []
    },
    "tags": []
   },
   "outputs": [],
   "source": [
    "from typing import Union, Dict, List, Any\n",
    "import torch\n",
    "import torchmetrics\n",
    "import pytorch_lightning as pl\n",
    "\n",
    "class Classifier(pl.LightningModule):\n",
    "    \n",
    "    def __init__(self):\n",
    "        super().__init__()\n",
    "\n",
    "        self._metrics: Dict[str, Dict[str, Any]] = {\n",
    "            \"train\": {\n",
    "                \"acc\": torchmetrics.Accuracy(task=\"multiclass\", num_classes=3),\n",
    "            },\n",
    "            \"valid\": {\n",
    "                \"acc\": torchmetrics.Accuracy(task=\"multiclass\", num_classes=3),\n",
    "            },\n",
    "        }\n",
    "        seq = [\n",
    "            torch.nn.Linear(4, 5),\n",
    "            torch.nn.ReLU(),\n",
    "            torch.nn.Linear(5, 8),\n",
    "            torch.nn.ReLU(),\n",
    "            torch.nn.Linear(8, 5),\n",
    "            torch.nn.ReLU(),\n",
    "            torch.nn.Linear(5, 3),\n",
    "            torch.nn.Softmax(),\n",
    "        ]\n",
    "        self.fcn: torch.nn.Sequential = torch.nn.Sequential(*seq)\n",
    "\n",
    "    def forward(self, x: torch.Tensor) -> Any:\n",
    "        \"\"\"\n",
    "        Documentation.\n",
    "        Parameters\n",
    "        ----------\n",
    "        x: torch.Tensor\n",
    "        Returns\n",
    "        -------\n",
    "        Any\n",
    "        \"\"\"\n",
    "        return self.fcn(x)\n",
    "\n",
    "    def training_step(self, train_batch: torch.Tensor, batch_idx: int) -> Union[torch.Tensor, Dict[str, Any]]:\n",
    "        batch_x, batch_y = train_batch\n",
    "        batch_y_hat: torch.Tensor = self(batch_x)\n",
    "        loss = torch.nn.CrossEntropyLoss()(batch_y_hat, batch_y)\n",
    "        self.log(\"train_loss\", loss, on_epoch=True)\n",
    "\n",
    "        train_metrics: List[Dict[str, Any]] = self._metrics[\"train\"]\n",
    "        for name, metric in train_metrics.items():\n",
    "            self.log(\"Train: {0}\".format(name), metric(torch.argmax(batch_y_hat, dim=1), batch_y), on_epoch=True)\n",
    "        return loss\n",
    "\n",
    "    def validation_step(self, valid_batch: torch.Tensor, batch_idx: int) -> None:\n",
    "        batch_x, batch_y = valid_batch\n",
    "\n",
    "        batch_y_hat: torch.Tensor = self(batch_x)\n",
    "        loss = torch.nn.CrossEntropyLoss()(batch_y_hat, batch_y)\n",
    "        self.log(\"valid_loss\", loss, on_epoch=True)\n",
    "        for name, metric in self._metrics[\"valid\"].items():\n",
    "            self.log(\"Valid: {0}\".format(name), metric(torch.argmax(batch_y_hat, dim=1), batch_y), on_epoch=True)\n",
    "\n",
    "    def configure_optimizers(self) -> Any:\n",
    "        optimizer = torch.optim.Adam(self.parameters(), lr=learning_rate)\n",
    "        return optimizer"
   ]
  },
  {
   "cell_type": "markdown",
   "id": "b078646c-2116-403f-afd0-5182045700ce",
   "metadata": {
    "canvas": {
     "comments": [],
     "componentType": "CodeCell",
     "copiedOriginId": "e44ffe99-4b92-48c2-ac33-cdf8051e688a",
     "diskcache": false,
     "headerColor": "none",
     "id": "6885b5c1-d5d7-48f4-9b0c-bdd4b5ee8f66",
     "isComponent": false,
     "name": "",
     "parents": []
    }
   },
   "source": [
    "## Create pl model"
   ]
  },
  {
   "cell_type": "code",
   "execution_count": null,
   "id": "bd6e6209-4d3f-4c68-b211-d8fde54d0fce",
   "metadata": {
    "canvas": {
     "comments": [],
     "componentType": "CodeCell",
     "copiedOriginId": null,
     "diskcache": true,
     "headerColor": "#0093FF",
     "id": "2bc7816b-c947-4d6f-892f-e0db93d5b982",
     "isComponent": true,
     "name": "create pl model",
     "parents": [
      {
       "id": "964f0b9a-dab5-48a3-88d3-5bdffcc53d49",
       "name": "def pl model"
      }
     ]
    },
    "tags": []
   },
   "outputs": [],
   "source": [
    "model = Classifier()"
   ]
  },
  {
   "cell_type": "markdown",
   "id": "ba871cb4-5639-4282-b545-6ac84b86bd6f",
   "metadata": {
    "canvas": {
     "comments": [],
     "componentType": "CodeCell",
     "copiedOriginId": "683f94a7-2159-487e-bfd7-3579786aa2e7",
     "diskcache": false,
     "headerColor": "none",
     "id": "2fc02568-c984-45aa-93f3-5c87983de2dd",
     "isComponent": false,
     "name": "",
     "parents": []
    }
   },
   "source": [
    "## Define liveplot logger"
   ]
  },
  {
   "cell_type": "code",
   "execution_count": null,
   "id": "e0973888-a208-4417-a751-992486e93559",
   "metadata": {
    "canvas": {
     "comments": [],
     "componentType": "CodeCell",
     "copiedOriginId": null,
     "diskcache": true,
     "headerColor": "none",
     "id": "268cfa1a-531c-4404-976a-6e97384ac5b0",
     "isComponent": true,
     "name": "def liveplot logger",
     "parents": []
    },
    "tags": []
   },
   "outputs": [],
   "source": [
    "import argparse\n",
    "from typing import Any, Dict, Optional\n",
    "from livelossplot import PlotLosses\n",
    "from pytorch_lightning.loggers import LightningLoggerBase\n",
    "from pytorch_lightning.loggers.base import rank_zero_experiment\n",
    "from pytorch_lightning.utilities import rank_zero_only, types\n",
    "\n",
    "\n",
    "class PlotLossesLogger(LightningLoggerBase):\n",
    "    \"\"\"Canvas Logger for lightning trainers\n",
    "    Args:\n",
    "        LightningLoggerBase ([type]): [description]\n",
    "    \"\"\"\n",
    "\n",
    "    def __init__(self, experiment=\"tmp\", max_epoch=None, **kwargs):\n",
    "        super().__init__()\n",
    "        self._plotlosses = PlotLosses(**kwargs).reset_outputs().to_matplotlib(max_epoch=max_epoch)\n",
    "        self._experiment = experiment\n",
    "        self._last_epoch = 0\n",
    "        self._last_metrics = {}\n",
    "\n",
    "    @property  # type: ignore\n",
    "    @rank_zero_experiment\n",
    "    def experiment(self) -> str:\n",
    "        return self._experiment\n",
    "\n",
    "    @rank_zero_only\n",
    "    def log_hyperparams(self, params: argparse.Namespace, *args: Any, **kwargs: Any) -> None:\n",
    "        pass\n",
    "\n",
    "    @rank_zero_only\n",
    "    def log_metrics(self, metrics: Dict[str, Any], step: Optional[int] = None) -> None:\n",
    "        if metrics[\"epoch\"] > self._last_epoch and \"valid_loss\" in metrics:\n",
    "            # Update accumulated metrics\n",
    "            if \"train_loss_step\" in self._last_metrics:\n",
    "                self._last_metrics.pop(\"train_loss_step\")\n",
    "            self._plotlosses.update(self._last_metrics)\n",
    "            self._plotlosses.send()\n",
    "            self._last_epoch = metrics.pop(\"epoch\")\n",
    "            self._last_metrics = metrics\n",
    "        else:\n",
    "            metrics.pop(\"epoch\")\n",
    "            self._last_metrics = {**self._last_metrics, **metrics}\n",
    "\n",
    "    @property\n",
    "    def name(self) -> str:\n",
    "        return \"canvas\"\n",
    "\n",
    "    @property\n",
    "    def version(self) -> str:\n",
    "        return \"prototype\""
   ]
  },
  {
   "cell_type": "markdown",
   "id": "d26630db-0bc7-4dd4-8e5b-6ac28cdc28de",
   "metadata": {
    "canvas": {
     "comments": [],
     "componentType": "CodeCell",
     "copiedOriginId": "a40c2a7b-2d6e-44d9-b324-14965b36e94c",
     "diskcache": false,
     "headerColor": "none",
     "id": "4ac688a5-1c85-45b5-9cd4-f98707e40674",
     "isComponent": false,
     "name": "",
     "parents": []
    }
   },
   "source": [
    "## Train model"
   ]
  },
  {
   "cell_type": "code",
   "execution_count": null,
   "id": "cb628aaf-03e9-4e3a-bc9b-0597fcbbcaf7",
   "metadata": {
    "canvas": {
     "comments": [],
     "componentType": "CodeCell",
     "copiedOriginId": null,
     "diskcache": true,
     "headerColor": "none",
     "id": "b0ac5426-1782-4b96-9499-06704770a75f",
     "isComponent": true,
     "name": "train model",
     "parents": [
      {
       "id": "268cfa1a-531c-4404-976a-6e97384ac5b0",
       "name": "def liveplot logger"
      },
      {
       "id": "2bc7816b-c947-4d6f-892f-e0db93d5b982",
       "name": "create pl model"
      },
      {
       "id": "da9f8eb3-7d26-4044-9d30-c6cb21530085",
       "name": "create dataloader"
      }
     ]
    },
    "tags": []
   },
   "outputs": [
    {
     "data": {
      "image/png": "[encoded data removed]",
      "text/plain": [
       "<Figure size 1200x800 with 2 Axes>"
      ]
     },
     "metadata": {},
     "output_type": "display_data"
    }
   ],
   "source": [
    "#max_epoch = 10\n",
    "logger = PlotLossesLogger(\n",
    "    groups={\"loss\": [\"train_loss_epoch\", \"valid_loss\"], \"Accuracy\": [\"Train: acc_epoch\", \"Valid: acc\"]},\n",
    "    max_epoch=max_epoch,\n",
    ")\n",
    "trainer = pl.Trainer(max_epochs=max_epoch, logger=[logger], enable_progress_bar=False)\n",
    "trainer.fit(model, train_loader, valid_loader)\n",
    "\n",
    "logger."
   ]
  },
  {
   "cell_type": "code",
   "execution_count": null,
   "id": "7fcd3e01-e0ad-41cd-87a3-7c41e66aadb1",
   "metadata": {
    "canvas": {
     "comments": [],
     "componentType": "CodeCell",
     "copiedOriginId": "466d0504-428b-423b-a9f3-31509df7e7c9",
     "diskcache": false,
     "headerColor": "none",
     "id": "e71e6773-53e2-4c64-befc-c8bf73a82c38",
     "isComponent": false,
     "name": "",
     "parents": []
    }
   },
   "outputs": [],
   "source": []
  }
 ],
 "metadata": {
  "canvas": {
   "parameters": [
    {
     "name": "a",
     "type": "int",
     "value": "1"
    },
    {
     "name": "learning_rate",
     "type": "float",
     "value": "0.001"
    },
    {
     "name": "max_epoch",
     "type": "int",
     "value": "10"
    }
   ],
   "version": "1.0"
  },
  "kernelspec": {
   "display_name": "Python 3 (ipykernel)",
   "language": "python",
   "name": "python3"
  },
  "language_info": {
   "codemirror_mode": {
    "name": "ipython",
    "version": 3
   },
   "file_extension": ".py",
   "mimetype": "text/x-python",
   "name": "python",
   "nbconvert_exporter": "python",
   "pygments_lexer": "ipython3",
   "version": "3.9.15"
  }
 },
 "nbformat": 4,
 "nbformat_minor": 5
}
