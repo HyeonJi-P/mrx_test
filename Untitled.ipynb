{
 "cells": [
  {
   "cell_type": "markdown",
   "id": "f994fd73-3c3b-4e25-9083-5b8a5f7cf1b2",
   "metadata": {
    "canvas": {
     "comments": [],
     "componentType": "CodeCell",
     "copiedOriginId": null,
     "diskcache": false,
     "headerColor": "inherit",
     "id": "f36a62cf-0d35-409f-8de8-70cdee5e9d07",
     "isComponent": false,
     "name": "",
     "parents": []
    },
    "tags": []
   },
   "source": []
  },
  {
   "cell_type": "code",
   "execution_count": null,
   "id": "6c5ab960-7223-4f2f-b134-8168b3b62314",
   "metadata": {
    "canvas": {
     "comments": [],
     "componentType": "CodeCell",
     "copiedOriginId": null,
     "diskcache": false,
     "headerColor": "inherit",
     "id": "a136e12d-4699-43c4-af10-4573fdb53001",
     "isComponent": false,
     "name": "",
     "parents": []
    }
   },
   "outputs": [],
   "source": [
    "#1. 파이프라인 작성 - 기존 주피터의 단점인 선후관계없는 부분이 독자가 파악하기 어렵게 하는 원인임\n",
    "    #각 셀은 파이프라인 에서도, 주피터 상에서도 연결되어있으면 가능\n",
    "    # 연결되어있ㅈ지 않다면 앞에 실행한 셀이라도 연결안됨\n",
    "#2. 캐시기능 - 온 오프를 통해 시간절약(반복실행작업 최소화) DB모양\n",
    "# 파이프라인 공유 export import기능으로 협업에 사용 가능 \n",
    "# 버전관리 기능 *- 깃 탭에서 버전관리 기능도 함께 제공하고 있음\n",
    "# HPO 하이퍼 파라미터 최적화 - 튜닝 기능 제공 파라미터칸 오른쪽 위 HPO 기능\n",
    "# 원격실행컴포넌트 단위별로 각 코드를 원격 지피유에서 실행할 수 있도록 구성되어ㅣㅆ음\n",
    "   #서버 로컬 연결대상들 모두 링크 설치 필요\n",
    "        # 컴포넌트만 넘기기 가능 -> 앞에 간단한것만 로컬 -> 받은 변수들로 넘겨서 서버에서 나머지 연산 가능\n",
    "            #각각의 컴포넌트를 다른서버에서 실행 가능"
   ]
  },
  {
   "cell_type": "code",
   "execution_count": 1,
   "id": "ad39beb0-fced-4b29-bf5b-4a561870be59",
   "metadata": {
    "canvas": {
     "comments": [],
     "componentType": "CodeCell",
     "copiedOriginId": null,
     "diskcache": true,
     "headerColor": "inherit",
     "id": "23487091-c57c-44aa-bcb6-f403198ee59c",
     "isComponent": true,
     "name": "1",
     "parents": []
    },
    "tags": []
   },
   "outputs": [],
   "source": [
    "a= 1"
   ]
  },
  {
   "cell_type": "code",
   "execution_count": 2,
   "id": "c084bac3-48a9-43ce-925a-a4444e02b315",
   "metadata": {
    "canvas": {
     "comments": [],
     "componentType": "CodeCell",
     "copiedOriginId": null,
     "diskcache": true,
     "headerColor": "inherit",
     "id": "50c58663-7ca8-42e5-936f-3bdab68e974e",
     "isComponent": true,
     "name": "2",
     "parents": []
    },
    "tags": []
   },
   "outputs": [],
   "source": [
    "b = 2"
   ]
  },
  {
   "cell_type": "code",
   "execution_count": 4,
   "id": "45a4cb4b-5b70-488d-a157-9a432e394276",
   "metadata": {
    "canvas": {
     "comments": [],
     "componentType": "CodeCell",
     "copiedOriginId": null,
     "diskcache": true,
     "headerColor": "inherit",
     "id": "b40fe580-3aaa-47a2-b266-26800463dca9",
     "isComponent": true,
     "name": "3",
     "parents": [
      {
       "id": "23487091-c57c-44aa-bcb6-f403198ee59c",
       "name": "1"
      },
      {
       "id": "50c58663-7ca8-42e5-936f-3bdab68e974e",
       "name": "2"
      }
     ]
    },
    "tags": []
   },
   "outputs": [],
   "source": [
    "c= a+b"
   ]
  },
  {
   "cell_type": "code",
   "execution_count": 6,
   "id": "2331a82c-103f-4864-99a3-c7385f00ff68",
   "metadata": {
    "canvas": {
     "comments": [],
     "componentType": "CodeCell",
     "copiedOriginId": null,
     "diskcache": false,
     "headerColor": "inherit",
     "id": "16aff7ba-adf1-4719-9546-d6b499a2fa95",
     "isComponent": true,
     "name": "4",
     "parents": [
      {
       "id": "b40fe580-3aaa-47a2-b266-26800463dca9",
       "name": "3"
      }
     ]
    },
    "tags": []
   },
   "outputs": [
    {
     "name": "stdout",
     "output_type": "stream",
     "text": [
      "3\n"
     ]
    }
   ],
   "source": [
    "print(c)"
   ]
  },
  {
   "cell_type": "code",
   "execution_count": null,
   "id": "6f0a9324-3471-4ff4-8ef8-28aba2c42ec8",
   "metadata": {
    "canvas": {
     "comments": [],
     "componentType": "CodeCell",
     "copiedOriginId": null,
     "diskcache": false,
     "headerColor": "inherit",
     "id": "13604b70-7107-4f83-a701-636e08703855",
     "isComponent": false,
     "name": "",
     "parents": []
    },
    "tags": []
   },
   "outputs": [],
   "source": [
    "c"
   ]
  }
 ],
 "metadata": {
  "canvas": {
   "colorPalette": [
    "inherit",
    "inherit",
    "inherit",
    "inherit",
    "inherit",
    "inherit",
    "inherit",
    "inherit",
    "inherit",
    "inherit"
   ],
   "parameters": []
  },
  "kernelspec": {
   "display_name": "Python 3 (ipykernel)",
   "language": "python",
   "name": "python3"
  },
  "language_info": {
   "codemirror_mode": {
    "name": "ipython",
    "version": 3
   },
   "file_extension": ".py",
   "mimetype": "text/x-python",
   "name": "python",
   "nbconvert_exporter": "python",
   "pygments_lexer": "ipython3",
   "version": "3.9.15"
  }
 },
 "nbformat": 4,
 "nbformat_minor": 5
}
